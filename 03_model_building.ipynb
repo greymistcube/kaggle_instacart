{
 "cells": [
  {
   "cell_type": "code",
   "execution_count": 1,
   "metadata": {
    "collapsed": true
   },
   "outputs": [],
   "source": [
    "import numpy as np\n",
    "import scipy as sp\n",
    "import pandas as pd"
   ]
  },
  {
   "cell_type": "markdown",
   "metadata": {},
   "source": [
    "## Import data"
   ]
  },
  {
   "cell_type": "code",
   "execution_count": 2,
   "metadata": {},
   "outputs": [
    {
     "name": "stdout",
     "output_type": "stream",
     "text": [
      "Wall time: 11.8 s\n"
     ]
    }
   ],
   "source": [
    "%%time\n",
    "path = './data/'\n",
    "\n",
    "df_aisles = pd.read_csv(path + 'aisles.csv')\n",
    "df_departments = pd.read_csv(path + 'departments.csv')\n",
    "df_data = pd.read_csv(path + 'order_products__prior.csv', dtype={\n",
    "    'order_id': np.int32,\n",
    "    'product_id': np.int32,\n",
    "    'add_to_cart_order': np.int16,\n",
    "    'reordered': np.int8,\n",
    "})\n",
    "df_train_target = pd.read_csv(path + 'order_products__train.csv')\n",
    "df_orders = pd.read_csv(path + 'orders.csv', dtype={\n",
    "    'order_id': np.int32,\n",
    "    'user_id': np.int32,\n",
    "    'order_number': np.int8,\n",
    "    'order_dow': np.int8,\n",
    "    'order_hour_of_day': np.int8,\n",
    "})\n",
    "df_products = pd.read_csv(path + 'products.csv')\n",
    "df_sample_submission = pd.read_csv(path + 'sample_submission.csv')"
   ]
  },
  {
   "cell_type": "markdown",
   "metadata": {},
   "source": [
    "## Initialization"
   ]
  },
  {
   "cell_type": "code",
   "execution_count": 3,
   "metadata": {
    "collapsed": true
   },
   "outputs": [],
   "source": [
    "# just some merge arguments that'll be used later on\n",
    "merge_arguments = {\n",
    "    'left_index': True,\n",
    "    'right_index': True,\n",
    "    'how': 'outer',\n",
    "}"
   ]
  },
  {
   "cell_type": "code",
   "execution_count": 4,
   "metadata": {
    "collapsed": true
   },
   "outputs": [],
   "source": [
    "# set an index for easier mapping\n",
    "df_orders = df_orders.set_index('order_id')\n",
    "df_products = df_products.set_index('product_id')"
   ]
  },
  {
   "cell_type": "code",
   "execution_count": 8,
   "metadata": {
    "collapsed": true
   },
   "outputs": [],
   "source": [
    "# add some features to the main data for convenience\n",
    "# note that these values are repeated as a single user places many orders with many products\n",
    "df_data['user_id'] = df_data.order_id.map(df_orders.user_id)\n",
    "df_data['order_number'] = df_data.order_id.map(df_orders.order_number)\n",
    "df_train_target['user_id'] = df_train_target.order_id.map(df_orders.user_id)"
   ]
  },
  {
   "cell_type": "code",
   "execution_count": 9,
   "metadata": {
    "collapsed": true
   },
   "outputs": [],
   "source": [
    "# creating list of users in each group: train and test\n",
    "users_train = df_orders.loc[df_orders.eval_set == 'train', 'user_id']\n",
    "users_test = df_orders.loc[df_orders.eval_set == 'test', 'user_id']\n",
    "\n",
    "# creating more maps for convenience\n",
    "user_id_to_last_order_number = df_data.groupby('user_id').agg({'order_number': 'max'}).order_number\n",
    "user_id_to_last_order_id = df_orders.loc[~df_orders.user_id.duplicated(keep='last')].reset_index().set_index('user_id').order_id\n",
    "order_id_to_user_id = df_orders.user_id"
   ]
  },
  {
   "cell_type": "code",
   "execution_count": 10,
   "metadata": {
    "collapsed": true
   },
   "outputs": [],
   "source": [
    "# split the main data into two groups: train and test\n",
    "df_train = df_data.loc[df_data.user_id.isin(users_train)]\n",
    "df_test = df_data.loc[df_data.user_id.isin(users_test)]"
   ]
  },
  {
   "cell_type": "code",
   "execution_count": 11,
   "metadata": {},
   "outputs": [
    {
     "name": "stdout",
     "output_type": "stream",
     "text": [
      "# of samples: 32,434,489\n",
      "# of train samples: 20,641,991\n",
      "# of test samples: 11,792,498\n"
     ]
    }
   ],
   "source": [
    "# a quick look at the sizes\n",
    "print(\"# of samples: {:,}\".format(df_data.shape[0]))\n",
    "print(\"# of train samples: {:,}\".format(df_train.shape[0]))\n",
    "print(\"# of test samples: {:,}\".format(df_test.shape[0]))"
   ]
  },
  {
   "cell_type": "code",
   "execution_count": 12,
   "metadata": {
    "collapsed": true
   },
   "outputs": [],
   "source": [
    "# perhaps last days_since_prior_order might be useful\n",
    "# at first glance, this seems like data leakage, but this information can be obtained\n",
    "# when a user visits the site.\n",
    "# if the model is simple enough, the site can use this information for prediction in real time\n",
    "user_id_to_days_since = df_orders.loc[(df_orders.eval_set == 'train') | (df_orders.eval_set == 'test')]\\\n",
    "                            .set_index('user_id').days_since_prior_order.astype(np.int16)"
   ]
  },
  {
   "cell_type": "markdown",
   "metadata": {},
   "source": [
    "## Create bestsellers list"
   ]
  },
  {
   "cell_type": "code",
   "execution_count": 13,
   "metadata": {
    "collapsed": true
   },
   "outputs": [],
   "source": [
    "# products that are frequently sold"
   ]
  },
  {
   "cell_type": "code",
   "execution_count": 14,
   "metadata": {
    "collapsed": true
   },
   "outputs": [],
   "source": [
    "def get_best_sellers(df, quantile):\n",
    "    df_temp = df.groupby('product_id').agg({'order_id': 'count'}).rename(columns={'order_id': 'amount_sold'})\n",
    "    return df_temp.loc[df_temp.amount_sold >= df_temp.amount_sold.quantile(quantile)].index.values"
   ]
  },
  {
   "cell_type": "code",
   "execution_count": 15,
   "metadata": {
    "collapsed": true
   },
   "outputs": [],
   "source": [
    "quantile = 0.8\n",
    "bestsellers = get_best_sellers(df_data, quantile)"
   ]
  },
  {
   "cell_type": "markdown",
   "metadata": {},
   "source": [
    "## Add more features"
   ]
  },
  {
   "cell_type": "code",
   "execution_count": 16,
   "metadata": {
    "collapsed": true
   },
   "outputs": [],
   "source": [
    "# last_order refers to the number of times a user have shopped on the site\n",
    "# rel_order_number is the relative \"distance\" of the order number to the last order"
   ]
  },
  {
   "cell_type": "code",
   "execution_count": 17,
   "metadata": {},
   "outputs": [
    {
     "name": "stderr",
     "output_type": "stream",
     "text": [
      "C:\\ProgramData\\Anaconda3\\lib\\site-packages\\pandas\\core\\indexing.py:337: SettingWithCopyWarning: \n",
      "A value is trying to be set on a copy of a slice from a DataFrame.\n",
      "Try using .loc[row_indexer,col_indexer] = value instead\n",
      "\n",
      "See the caveats in the documentation: http://pandas.pydata.org/pandas-docs/stable/indexing.html#indexing-view-versus-copy\n",
      "  self.obj[key] = _infer_fill_value(value)\n",
      "C:\\ProgramData\\Anaconda3\\lib\\site-packages\\pandas\\core\\indexing.py:517: SettingWithCopyWarning: \n",
      "A value is trying to be set on a copy of a slice from a DataFrame.\n",
      "Try using .loc[row_indexer,col_indexer] = value instead\n",
      "\n",
      "See the caveats in the documentation: http://pandas.pydata.org/pandas-docs/stable/indexing.html#indexing-view-versus-copy\n",
      "  self.obj[item] = s\n"
     ]
    }
   ],
   "source": [
    "# warning ahead\n",
    "# need to be dealt at some point\n",
    "df_train.loc[:, 'last_order'] = df_train.user_id.map(user_id_to_last_order_number)\n",
    "df_train.loc[:, 'rel_order_number'] = df_train.last_order - df_train.order_number\n",
    "\n",
    "df_test.loc[:, 'last_order'] = df_test.user_id.map(user_id_to_last_order_number)\n",
    "df_test.loc[:, 'rel_order_number'] = df_test.last_order - df_test.order_number"
   ]
  },
  {
   "cell_type": "markdown",
   "metadata": {},
   "source": [
    "## Transform features"
   ]
  },
  {
   "cell_type": "code",
   "execution_count": 18,
   "metadata": {
    "collapsed": true
   },
   "outputs": [],
   "source": [
    "# just some helper dictionaries to use when preprocessing the data\n",
    "feature_aggregation = {\n",
    "    'order_number': 'min',\n",
    "    'reordered': 'sum',\n",
    "    'last_order': 'max',\n",
    "}\n",
    "\n",
    "last_order_aggregation = {\n",
    "    'lo_0': 'sum',\n",
    "    'lo_1': 'sum',\n",
    "    'lo_2': 'sum',\n",
    "    'lo_3': 'sum',\n",
    "    'lo_4': 'sum',\n",
    "    'lo_5': 'sum',\n",
    "}"
   ]
  },
  {
   "cell_type": "code",
   "execution_count": 19,
   "metadata": {
    "collapsed": true
   },
   "outputs": [],
   "source": [
    "# this part needs some cleaning\n",
    "class DF_data:\n",
    "    def __init__(self, df, df_target=None, set_target=False):\n",
    "        self.df_data = df.groupby(['user_id', 'product_id']).agg(feature_aggregation)\n",
    "        self.df_data = self.df_data.rename(columns={'order_number': 'first_order', 'last_order': 'times_shopped'})\n",
    "        \n",
    "        df_temp = df.loc[df.rel_order_number < 6].copy()\n",
    "        df_temp = df_temp.merge(pd.get_dummies(df_temp.rel_order_number, prefix='lo'), **merge_arguments)\n",
    "        df_temp = df_temp.groupby(['user_id', 'product_id']).agg(last_order_aggregation)\n",
    "        \n",
    "        self.df_data = self.df_data.merge(df_temp, left_index=True, right_index=True, how='outer')\n",
    "        self.df_data = self.df_data.fillna(0)\n",
    "        \n",
    "        self.df_data.lo_0 = self.df_data.lo_0.astype(np.int8)\n",
    "        self.df_data.lo_1 = self.df_data.lo_1.astype(np.int8)\n",
    "        self.df_data.lo_2 = self.df_data.lo_2.astype(np.int8)\n",
    "        self.df_data.lo_3 = self.df_data.lo_0.astype(np.int8)\n",
    "        self.df_data.lo_4 = self.df_data.lo_1.astype(np.int8)\n",
    "        self.df_data.lo_5 = self.df_data.lo_2.astype(np.int8)\n",
    "        \n",
    "        # somewhat normalized reorder probability per order\n",
    "        self.df_data['reorder_rate'] = ((self.df_data.reordered + 1)\n",
    "                                        / ((self.df_data.times_shopped - self.df_data.first_order) + 2))\n",
    "        \n",
    "        if set_target == True:\n",
    "            df_temp = df_target.groupby(['user_id', 'product_id']).agg({'reordered': 'sum'})\n",
    "            df_temp = df_temp.rename(columns={'reordered': 'target'})\n",
    "\n",
    "            self.df_data = self.df_data.merge(df_temp, left_index=True, right_index=True, how='left')\n",
    "            self.df_data = self.df_data.fillna(0)\n",
    "            self.df_data.target = self.df_data.target.astype(np.int8)\n",
    "        \n",
    "        self.df_data = self.df_data.reset_index()\n",
    "        self.df_data['days_since'] = self.df_data.user_id.map(user_id_to_days_since)\n",
    "        self.df_data['is_bestseller'] = self.df_data.product_id.isin(bestsellers).astype(np.int8)\n",
    "        self.df_data['long_history'] = (self.df_data.first_order < self.df_data.times_shopped - 5).astype(np.int8)"
   ]
  },
  {
   "cell_type": "code",
   "execution_count": 20,
   "metadata": {},
   "outputs": [
    {
     "name": "stdout",
     "output_type": "stream",
     "text": [
      "Wall time: 49.9 s\n"
     ]
    }
   ],
   "source": [
    "%%time\n",
    "train = DF_data(df_train, df_train_target, set_target=True)"
   ]
  },
  {
   "cell_type": "code",
   "execution_count": 21,
   "metadata": {},
   "outputs": [
    {
     "data": {
      "text/html": [
       "<div>\n",
       "<style>\n",
       "    .dataframe thead tr:only-child th {\n",
       "        text-align: right;\n",
       "    }\n",
       "\n",
       "    .dataframe thead th {\n",
       "        text-align: left;\n",
       "    }\n",
       "\n",
       "    .dataframe tbody tr th {\n",
       "        vertical-align: top;\n",
       "    }\n",
       "</style>\n",
       "<table border=\"1\" class=\"dataframe\">\n",
       "  <thead>\n",
       "    <tr style=\"text-align: right;\">\n",
       "      <th></th>\n",
       "      <th>user_id</th>\n",
       "      <th>product_id</th>\n",
       "      <th>first_order</th>\n",
       "      <th>reordered</th>\n",
       "      <th>times_shopped</th>\n",
       "      <th>lo_0</th>\n",
       "      <th>lo_1</th>\n",
       "      <th>lo_2</th>\n",
       "      <th>lo_3</th>\n",
       "      <th>lo_4</th>\n",
       "      <th>lo_5</th>\n",
       "      <th>reorder_rate</th>\n",
       "      <th>target</th>\n",
       "      <th>days_since</th>\n",
       "      <th>is_bestseller</th>\n",
       "      <th>long_history</th>\n",
       "    </tr>\n",
       "  </thead>\n",
       "  <tbody>\n",
       "    <tr>\n",
       "      <th>0</th>\n",
       "      <td>1</td>\n",
       "      <td>196</td>\n",
       "      <td>1</td>\n",
       "      <td>9</td>\n",
       "      <td>10</td>\n",
       "      <td>1</td>\n",
       "      <td>1</td>\n",
       "      <td>1</td>\n",
       "      <td>1</td>\n",
       "      <td>1</td>\n",
       "      <td>1</td>\n",
       "      <td>0.909091</td>\n",
       "      <td>1</td>\n",
       "      <td>14</td>\n",
       "      <td>1</td>\n",
       "      <td>1</td>\n",
       "    </tr>\n",
       "    <tr>\n",
       "      <th>1</th>\n",
       "      <td>1</td>\n",
       "      <td>10258</td>\n",
       "      <td>2</td>\n",
       "      <td>8</td>\n",
       "      <td>10</td>\n",
       "      <td>1</td>\n",
       "      <td>1</td>\n",
       "      <td>1</td>\n",
       "      <td>1</td>\n",
       "      <td>1</td>\n",
       "      <td>1</td>\n",
       "      <td>0.900000</td>\n",
       "      <td>1</td>\n",
       "      <td>14</td>\n",
       "      <td>1</td>\n",
       "      <td>1</td>\n",
       "    </tr>\n",
       "    <tr>\n",
       "      <th>2</th>\n",
       "      <td>1</td>\n",
       "      <td>10326</td>\n",
       "      <td>5</td>\n",
       "      <td>0</td>\n",
       "      <td>10</td>\n",
       "      <td>0</td>\n",
       "      <td>0</td>\n",
       "      <td>0</td>\n",
       "      <td>0</td>\n",
       "      <td>0</td>\n",
       "      <td>0</td>\n",
       "      <td>0.142857</td>\n",
       "      <td>0</td>\n",
       "      <td>14</td>\n",
       "      <td>1</td>\n",
       "      <td>0</td>\n",
       "    </tr>\n",
       "    <tr>\n",
       "      <th>3</th>\n",
       "      <td>1</td>\n",
       "      <td>12427</td>\n",
       "      <td>1</td>\n",
       "      <td>9</td>\n",
       "      <td>10</td>\n",
       "      <td>1</td>\n",
       "      <td>1</td>\n",
       "      <td>1</td>\n",
       "      <td>1</td>\n",
       "      <td>1</td>\n",
       "      <td>1</td>\n",
       "      <td>0.909091</td>\n",
       "      <td>0</td>\n",
       "      <td>14</td>\n",
       "      <td>1</td>\n",
       "      <td>1</td>\n",
       "    </tr>\n",
       "    <tr>\n",
       "      <th>4</th>\n",
       "      <td>1</td>\n",
       "      <td>13032</td>\n",
       "      <td>2</td>\n",
       "      <td>2</td>\n",
       "      <td>10</td>\n",
       "      <td>1</td>\n",
       "      <td>0</td>\n",
       "      <td>0</td>\n",
       "      <td>1</td>\n",
       "      <td>0</td>\n",
       "      <td>0</td>\n",
       "      <td>0.300000</td>\n",
       "      <td>1</td>\n",
       "      <td>14</td>\n",
       "      <td>1</td>\n",
       "      <td>1</td>\n",
       "    </tr>\n",
       "  </tbody>\n",
       "</table>\n",
       "</div>"
      ],
      "text/plain": [
       "   user_id  product_id  first_order  reordered  times_shopped  lo_0  lo_1  \\\n",
       "0        1         196            1          9             10     1     1   \n",
       "1        1       10258            2          8             10     1     1   \n",
       "2        1       10326            5          0             10     0     0   \n",
       "3        1       12427            1          9             10     1     1   \n",
       "4        1       13032            2          2             10     1     0   \n",
       "\n",
       "   lo_2  lo_3  lo_4  lo_5  reorder_rate  target  days_since  is_bestseller  \\\n",
       "0     1     1     1     1      0.909091       1          14              1   \n",
       "1     1     1     1     1      0.900000       1          14              1   \n",
       "2     0     0     0     0      0.142857       0          14              1   \n",
       "3     1     1     1     1      0.909091       0          14              1   \n",
       "4     0     1     0     0      0.300000       1          14              1   \n",
       "\n",
       "   long_history  \n",
       "0             1  \n",
       "1             1  \n",
       "2             0  \n",
       "3             1  \n",
       "4             1  "
      ]
     },
     "execution_count": 21,
     "metadata": {},
     "output_type": "execute_result"
    }
   ],
   "source": [
    "# a quick sanity check\n",
    "train.df_data.head(5)"
   ]
  },
  {
   "cell_type": "markdown",
   "metadata": {},
   "source": [
    "## Model testing"
   ]
  },
  {
   "cell_type": "code",
   "execution_count": 22,
   "metadata": {
    "collapsed": true,
    "scrolled": true
   },
   "outputs": [],
   "source": [
    "from sklearn.tree import DecisionTreeClassifier"
   ]
  },
  {
   "cell_type": "code",
   "execution_count": 23,
   "metadata": {
    "collapsed": true
   },
   "outputs": [],
   "source": [
    "# a handy list to flag which features to use when fitting a model\n",
    "features_to_use = [\n",
    "    'lo_0',\n",
    "    'lo_1',\n",
    "    'lo_2',\n",
    "    'lo_3',\n",
    "    'lo_4',\n",
    "    'lo_5',\n",
    "#    'times_shopped',\n",
    "#    'days_since',\n",
    "    'reorder_rate',\n",
    "    'is_bestseller',\n",
    "    'long_history',\n",
    "]"
   ]
  },
  {
   "cell_type": "code",
   "execution_count": 24,
   "metadata": {
    "collapsed": true
   },
   "outputs": [],
   "source": [
    "# if n is larger than the number of users in the training set, just return all users\n",
    "def get_sample_users(df, n):\n",
    "    if n > df.user_id.nunique():\n",
    "        return pd.Series(df.user_id.unique())\n",
    "    else:\n",
    "        return pd.Series(np.random.choice(df.user_id.unique(), n, replace=False))"
   ]
  },
  {
   "cell_type": "code",
   "execution_count": 25,
   "metadata": {
    "collapsed": true
   },
   "outputs": [],
   "source": [
    "validation_size = 8192\n",
    "validation_users = get_sample_users(train.df_data, validation_size)"
   ]
  },
  {
   "cell_type": "code",
   "execution_count": 26,
   "metadata": {
    "collapsed": true
   },
   "outputs": [],
   "source": [
    "# splitting the training data into two groups for validation\n",
    "df_X = train.df_data.loc[~train.df_data.user_id.isin(validation_users), features_to_use]\n",
    "df_y = train.df_data.loc[~train.df_data.user_id.isin(validation_users), 'target']\n",
    "df_val_X = train.df_data.loc[train.df_data.user_id.isin(validation_users), features_to_use]\n",
    "df_val_y = train.df_data.loc[train.df_data.user_id.isin(validation_users), 'target']"
   ]
  },
  {
   "cell_type": "code",
   "execution_count": 27,
   "metadata": {
    "collapsed": true
   },
   "outputs": [],
   "source": [
    "# create a model and fit\n",
    "model = DecisionTreeClassifier(class_weight={0: 1, 1: 4.5})"
   ]
  },
  {
   "cell_type": "code",
   "execution_count": 28,
   "metadata": {},
   "outputs": [
    {
     "name": "stdout",
     "output_type": "stream",
     "text": [
      "Wall time: 33.3 s\n"
     ]
    },
    {
     "data": {
      "text/plain": [
       "DecisionTreeClassifier(class_weight={0: 1, 1: 4.5}, criterion='gini',\n",
       "            max_depth=None, max_features=None, max_leaf_nodes=None,\n",
       "            min_impurity_split=1e-07, min_samples_leaf=1,\n",
       "            min_samples_split=2, min_weight_fraction_leaf=0.0,\n",
       "            presort=False, random_state=None, splitter='best')"
      ]
     },
     "execution_count": 28,
     "metadata": {},
     "output_type": "execute_result"
    }
   ],
   "source": [
    "%%time\n",
    "model.fit(df_X, df_y)"
   ]
  },
  {
   "cell_type": "code",
   "execution_count": 29,
   "metadata": {
    "collapsed": true
   },
   "outputs": [],
   "source": [
    "predict = model.predict(df_val_X)"
   ]
  },
  {
   "cell_type": "code",
   "execution_count": 30,
   "metadata": {},
   "outputs": [
    {
     "name": "stdout",
     "output_type": "stream",
     "text": [
      "predicted true: 72,166\n",
      "relevant true: 52,161\n",
      "true positive: 26,253\n",
      "false positive: 45,913\n",
      "false negative: 25,908\n",
      "\n",
      "precision: 0.364\n",
      "f1 score: 0.422\n"
     ]
    }
   ],
   "source": [
    "PT = predict.sum()\n",
    "RT = df_val_y.sum()\n",
    "TP = np.dot(predict.astype(np.int32), df_val_y.values.astype(np.int32))\n",
    "FP = PT - TP\n",
    "FN = RT - TP\n",
    "print('predicted true: {:,}'.format(PT))\n",
    "print('relevant true: {:,}'.format(RT))\n",
    "print('true positive: {:,}'.format(TP))\n",
    "print('false positive: {:,}'.format(FP))\n",
    "print('false negative: {:,}'.format(FN))\n",
    "print('')\n",
    "print('precision: {:.3f}'.format(TP / PT))\n",
    "print('f1 score: {:.3f}'.format((2 * TP) / ((2 * TP) + FN + FP)))"
   ]
  },
  {
   "cell_type": "code",
   "execution_count": 31,
   "metadata": {
    "collapsed": true
   },
   "outputs": [],
   "source": [
    "# note that the score will be much lower on Kaggle\n",
    "# as this is not mean f1 among users"
   ]
  },
  {
   "cell_type": "markdown",
   "metadata": {
    "collapsed": true
   },
   "source": [
    "## Predict on test set"
   ]
  },
  {
   "cell_type": "code",
   "execution_count": 32,
   "metadata": {
    "collapsed": true
   },
   "outputs": [],
   "source": [
    "test = DF_data(df_test, df_target=None, set_target=False)"
   ]
  },
  {
   "cell_type": "code",
   "execution_count": 33,
   "metadata": {
    "collapsed": true
   },
   "outputs": [],
   "source": [
    "df_test_X = test.df_data.loc[:, features_to_use]"
   ]
  },
  {
   "cell_type": "code",
   "execution_count": 34,
   "metadata": {
    "collapsed": true
   },
   "outputs": [],
   "source": [
    "test.df_data['products'] = model.predict(df_test_X) * test.df_data.product_id"
   ]
  },
  {
   "cell_type": "code",
   "execution_count": 35,
   "metadata": {
    "collapsed": true
   },
   "outputs": [],
   "source": [
    "# helper function to transform the result to proper submission format\n",
    "def get_predict_list(series):\n",
    "    str_temp = ''\n",
    "    first_product = True\n",
    "    for product in series:\n",
    "        if product > 0:\n",
    "            if first_product:\n",
    "                str_temp += str(product)\n",
    "                first_product = False\n",
    "            else:\n",
    "                str_temp += ' '\n",
    "                str_temp += str(product)\n",
    "    if str_temp == '':\n",
    "        return 'None'\n",
    "    else:\n",
    "        return str_temp"
   ]
  },
  {
   "cell_type": "code",
   "execution_count": 36,
   "metadata": {
    "collapsed": true
   },
   "outputs": [],
   "source": [
    "submission = test.df_data.groupby('user_id').agg({'products': get_predict_list})"
   ]
  },
  {
   "cell_type": "code",
   "execution_count": 37,
   "metadata": {
    "collapsed": true
   },
   "outputs": [],
   "source": [
    "submission['order_id'] = user_id_to_last_order_id"
   ]
  },
  {
   "cell_type": "code",
   "execution_count": 38,
   "metadata": {
    "collapsed": true
   },
   "outputs": [],
   "source": [
    "submission = submission[['order_id', 'products']]"
   ]
  },
  {
   "cell_type": "code",
   "execution_count": 39,
   "metadata": {
    "collapsed": true
   },
   "outputs": [],
   "source": [
    "submission = submission.sort_values(by='order_id')"
   ]
  },
  {
   "cell_type": "code",
   "execution_count": 40,
   "metadata": {},
   "outputs": [
    {
     "data": {
      "text/plain": [
       "(75000, 2)"
      ]
     },
     "execution_count": 40,
     "metadata": {},
     "output_type": "execute_result"
    }
   ],
   "source": [
    "# a quick sanity check\n",
    "# the number of rows should be exactly 75,000\n",
    "submission.shape"
   ]
  },
  {
   "cell_type": "code",
   "execution_count": 41,
   "metadata": {},
   "outputs": [
    {
     "data": {
      "text/html": [
       "<div>\n",
       "<style>\n",
       "    .dataframe thead tr:only-child th {\n",
       "        text-align: right;\n",
       "    }\n",
       "\n",
       "    .dataframe thead th {\n",
       "        text-align: left;\n",
       "    }\n",
       "\n",
       "    .dataframe tbody tr th {\n",
       "        vertical-align: top;\n",
       "    }\n",
       "</style>\n",
       "<table border=\"1\" class=\"dataframe\">\n",
       "  <thead>\n",
       "    <tr style=\"text-align: right;\">\n",
       "      <th></th>\n",
       "      <th>order_id</th>\n",
       "      <th>products</th>\n",
       "    </tr>\n",
       "    <tr>\n",
       "      <th>user_id</th>\n",
       "      <th></th>\n",
       "      <th></th>\n",
       "    </tr>\n",
       "  </thead>\n",
       "  <tbody>\n",
       "    <tr>\n",
       "      <th>36855</th>\n",
       "      <td>17</td>\n",
       "      <td>13107 21463 38777</td>\n",
       "    </tr>\n",
       "    <tr>\n",
       "      <th>35220</th>\n",
       "      <td>34</td>\n",
       "      <td>2596 16083 21137 39475 43504 44663 47766 47792</td>\n",
       "    </tr>\n",
       "    <tr>\n",
       "      <th>187107</th>\n",
       "      <td>137</td>\n",
       "      <td>2326 5134 23794 24852 25890 38689 41787</td>\n",
       "    </tr>\n",
       "    <tr>\n",
       "      <th>115892</th>\n",
       "      <td>182</td>\n",
       "      <td>5479 9337 11520 13629 16973 32109 33000 39275 ...</td>\n",
       "    </tr>\n",
       "    <tr>\n",
       "      <th>35581</th>\n",
       "      <td>257</td>\n",
       "      <td>1025 4605 13870 24838 24852 25659 27104 27966 ...</td>\n",
       "    </tr>\n",
       "  </tbody>\n",
       "</table>\n",
       "</div>"
      ],
      "text/plain": [
       "         order_id                                           products\n",
       "user_id                                                             \n",
       "36855          17                                  13107 21463 38777\n",
       "35220          34     2596 16083 21137 39475 43504 44663 47766 47792\n",
       "187107        137            2326 5134 23794 24852 25890 38689 41787\n",
       "115892        182  5479 9337 11520 13629 16973 32109 33000 39275 ...\n",
       "35581         257  1025 4605 13870 24838 24852 25659 27104 27966 ..."
      ]
     },
     "execution_count": 41,
     "metadata": {},
     "output_type": "execute_result"
    }
   ],
   "source": [
    "submission.head(5)"
   ]
  },
  {
   "cell_type": "code",
   "execution_count": 42,
   "metadata": {
    "collapsed": true
   },
   "outputs": [],
   "source": [
    "submission.to_csv('submission.csv', index=False)"
   ]
  },
  {
   "cell_type": "code",
   "execution_count": null,
   "metadata": {
    "collapsed": true
   },
   "outputs": [],
   "source": []
  }
 ],
 "metadata": {
  "kernelspec": {
   "display_name": "Python [conda root]",
   "language": "python",
   "name": "conda-root-py"
  },
  "language_info": {
   "codemirror_mode": {
    "name": "ipython",
    "version": 3
   },
   "file_extension": ".py",
   "mimetype": "text/x-python",
   "name": "python",
   "nbconvert_exporter": "python",
   "pygments_lexer": "ipython3",
   "version": "3.6.1"
  }
 },
 "nbformat": 4,
 "nbformat_minor": 2
}
